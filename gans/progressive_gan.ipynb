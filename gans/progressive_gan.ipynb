{
 "cells": [
  {
   "cell_type": "markdown",
   "metadata": {},
   "source": [
    "# Progressive GAN\n",
    "\n",
    "* `Progressive Growing of GANs for Improved Quality, Stability, and Variation`, [arXiv:1710.10196](https://arxiv.org/abs/1710.10196)\n",
    "  * Tero Karras, Timo Aila, Samuli Laine, and Jaakko Lehtinen\n",
    "\n",
    "* This code is available to tensorflow version 2.0\n",
    "* Implemented by [`tf.keras.layers`](https://www.tensorflow.org/versions/r2.0/api_docs/python/tf/keras/layers) [`tf.losses`](https://www.tensorflow.org/versions/r2.0/api_docs/python/tf/losses)"
   ]
  },
  {
   "cell_type": "markdown",
   "metadata": {},
   "source": [
    "## Import modules"
   ]
  },
  {
   "cell_type": "code",
   "execution_count": null,
   "metadata": {
    "ExecuteTime": {
     "end_time": "2019-03-12T10:38:41.722969Z",
     "start_time": "2019-03-12T10:38:38.220218Z"
    }
   },
   "outputs": [],
   "source": [
    "from __future__ import absolute_import\n",
    "from __future__ import division\n",
    "from __future__ import print_function\n",
    "from __future__ import unicode_literals\n",
    "\n",
    "import os\n",
    "import sys\n",
    "import time\n",
    "import glob\n",
    "\n",
    "import numpy as np\n",
    "import matplotlib.pyplot as plt\n",
    "%matplotlib inline\n",
    "\n",
    "import PIL\n",
    "import imageio\n",
    "from IPython import display\n",
    "\n",
    "import tensorflow as tf\n",
    "from tensorflow.keras import layers\n",
    "\n",
    "sys.path.append(os.path.dirname(os.path.abspath('.')))\n",
    "from utils.image_utils import *\n",
    "from utils.ops import *\n",
    "\n",
    "os.environ[\"CUDA_VISIBLE_DEVICES\"]=\"0\""
   ]
  },
  {
   "cell_type": "markdown",
   "metadata": {},
   "source": [
    "## Setting hyperparameters"
   ]
  },
  {
   "cell_type": "code",
   "execution_count": null,
   "metadata": {
    "ExecuteTime": {
     "end_time": "2019-03-12T10:38:41.739421Z",
     "start_time": "2019-03-12T10:38:41.729664Z"
    }
   },
   "outputs": [],
   "source": [
    "# Training Flags (hyperparameter configuration)\n",
    "model_name = 'progressive-gan'\n",
    "train_dir = os.path.join('train', model_name, 'exp1')\n",
    "dataset_name = 'cifar10'\n",
    "assert dataset_name in ['cifar10']\n",
    "\n",
    "training_phase_epoch = 1 # epoch\n",
    "transition_phase_epoch = 1 # epoch\n",
    "\n",
    "save_model_epochs = 10\n",
    "print_steps = 20\n",
    "save_images_epochs = 1\n",
    "batch_size = 16\n",
    "learning_rate_D = 1e-3\n",
    "learning_rate_G = 1e-3\n",
    "k = 1 # the number of step of learning D before learning G (Not used in this code)\n",
    "num_examples_to_generate = 16\n",
    "noise_dim = 512\n",
    "gp_lambda = 10\n",
    "\n",
    "CIFAR_SIZE = 32"
   ]
  },
  {
   "cell_type": "markdown",
   "metadata": {},
   "source": [
    "## Load the CIFAR10 dataset"
   ]
  },
  {
   "cell_type": "code",
   "execution_count": null,
   "metadata": {
    "ExecuteTime": {
     "end_time": "2019-03-12T10:38:42.436630Z",
     "start_time": "2019-03-12T10:38:41.744610Z"
    }
   },
   "outputs": [],
   "source": [
    "# Load training and eval data from tf.keras\n",
    "if dataset_name == 'cifar10':\n",
    "  (train_images, train_labels), _ = \\\n",
    "      tf.keras.datasets.cifar10.load_data()\n",
    "else:\n",
    "  pass\n",
    "\n",
    "train_images = train_images.astype('float32')\n",
    "train_images = (train_images - 127.5) / 127.5 # Normalize the images to [-1, 1]"
   ]
  },
  {
   "cell_type": "markdown",
   "metadata": {},
   "source": [
    "## Set up dataset with `tf.data`\n",
    "\n",
    "### create input pipeline with `tf.data.Dataset`"
   ]
  },
  {
   "cell_type": "code",
   "execution_count": null,
   "metadata": {},
   "outputs": [],
   "source": [
    "def resize(image, size):\n",
    "  image = tf.image.resize(image, [size, size],\n",
    "                          method=tf.image.ResizeMethod.NEAREST_NEIGHBOR)\n",
    "  return image"
   ]
  },
  {
   "cell_type": "markdown",
   "metadata": {},
   "source": [
    "#### create 4x4 dataset"
   ]
  },
  {
   "cell_type": "code",
   "execution_count": null,
   "metadata": {
    "ExecuteTime": {
     "end_time": "2019-03-12T10:38:42.473304Z",
     "start_time": "2019-03-12T10:38:42.441925Z"
    }
   },
   "outputs": [],
   "source": [
    "#tf.random.set_seed(219)\n",
    "# for train\n",
    "N = len(train_images)\n",
    "train_dataset4 = tf.data.Dataset.from_tensor_slices(train_images[:N])\n",
    "train_dataset4 = train_dataset4.shuffle(buffer_size=N)\n",
    "train_dataset4 = train_dataset4.map(lambda x: resize(x, 4))\n",
    "train_dataset4 = train_dataset4.batch(batch_size=batch_size)\n",
    "print(train_dataset4)"
   ]
  },
  {
   "cell_type": "markdown",
   "metadata": {},
   "source": [
    "#### create 8x8 dataset"
   ]
  },
  {
   "cell_type": "code",
   "execution_count": null,
   "metadata": {
    "ExecuteTime": {
     "end_time": "2019-03-12T10:38:42.473304Z",
     "start_time": "2019-03-12T10:38:42.441925Z"
    }
   },
   "outputs": [],
   "source": [
    "#tf.random.set_seed(219)\n",
    "train_dataset8 = tf.data.Dataset.from_tensor_slices(train_images[:N])\n",
    "train_dataset8 = train_dataset8.shuffle(buffer_size=N)\n",
    "train_dataset8 = train_dataset8.map(lambda x: resize(x, 8))\n",
    "train_dataset8 = train_dataset8.batch(batch_size=batch_size)\n",
    "print(train_dataset8)"
   ]
  },
  {
   "cell_type": "markdown",
   "metadata": {},
   "source": [
    "#### create 16x16 dataset"
   ]
  },
  {
   "cell_type": "code",
   "execution_count": null,
   "metadata": {
    "ExecuteTime": {
     "end_time": "2019-03-12T10:38:42.473304Z",
     "start_time": "2019-03-12T10:38:42.441925Z"
    }
   },
   "outputs": [],
   "source": [
    "#tf.random.set_seed(219)\n",
    "train_dataset16 = tf.data.Dataset.from_tensor_slices(train_images[:N])\n",
    "train_dataset16 = train_dataset16.shuffle(buffer_size=N)\n",
    "train_dataset16 = train_dataset16.map(lambda x: resize(x, 16))\n",
    "train_dataset16 = train_dataset16.batch(batch_size=batch_size)\n",
    "print(train_dataset16)"
   ]
  },
  {
   "cell_type": "markdown",
   "metadata": {},
   "source": [
    "#### create 32x32 dataset"
   ]
  },
  {
   "cell_type": "code",
   "execution_count": null,
   "metadata": {
    "ExecuteTime": {
     "end_time": "2019-03-12T10:38:42.473304Z",
     "start_time": "2019-03-12T10:38:42.441925Z"
    }
   },
   "outputs": [],
   "source": [
    "#tf.random.set_seed(219)\n",
    "train_dataset32 = tf.data.Dataset.from_tensor_slices(train_images[:N])\n",
    "train_dataset32 = train_dataset32.shuffle(buffer_size=N)\n",
    "train_dataset32 = train_dataset32.batch(batch_size=batch_size)\n",
    "print(train_dataset32)"
   ]
  },
  {
   "cell_type": "markdown",
   "metadata": {
    "cell_style": "center"
   },
   "source": [
    "## Create the generator and discriminator models"
   ]
  },
  {
   "cell_type": "code",
   "execution_count": null,
   "metadata": {},
   "outputs": [],
   "source": [
    "class PixelNormalization(tf.keras.Model):\n",
    "  def __init__(self, epsilon=1e-8, name='PixelNorm'):\n",
    "    super(PixelNormalization, self).__init__(name=name)\n",
    "    self.epsilon = epsilon\n",
    "    \n",
    "  def call(self, inputs):\n",
    "    # This code is borrowed from official PGGAN code (https://github.com/tkarras/progressive_growing_of_gans)\n",
    "    # Shape of data in original code is [bs, c, h, w], but shape of data in my code is [bs, h, w, c]\n",
    "    # So, set the axis of reduce_mean as -1 (channel axis).\n",
    "    return inputs * tf.math.rsqrt(tf.reduce_mean(tf.square(inputs), axis=-1, keepdims=True) + self.epsilon)"
   ]
  },
  {
   "cell_type": "code",
   "execution_count": null,
   "metadata": {},
   "outputs": [],
   "source": [
    "class G_Block(tf.keras.Model):\n",
    "  def __init__(self, filters, name):\n",
    "    super(G_Block, self).__init__(name=name)\n",
    "    self.upsample = layers.UpSampling2D()\n",
    "    self.conv1 = layers.Conv2D(filters, 3, padding='same', activation=tf.nn.leaky_relu,\n",
    "                               kernel_initializer='he_normal')\n",
    "    self.conv2 = layers.Conv2D(filters, 3, padding='same', activation=tf.nn.leaky_relu,\n",
    "                               kernel_initializer='he_normal')\n",
    "    self.pn = PixelNormalization()\n",
    "    \n",
    "  def call(self, inputs):\n",
    "    up = self.upsample(inputs)\n",
    "    conv1 = self.conv1(up)\n",
    "    conv1 = self.pn(conv1)\n",
    "    conv2 = self.conv2(conv1)\n",
    "    conv2 = self.pn(conv2)\n",
    "    \n",
    "    return conv2"
   ]
  },
  {
   "cell_type": "code",
   "execution_count": null,
   "metadata": {},
   "outputs": [],
   "source": [
    "class G_Init_Block(tf.keras.Model):\n",
    "  def __init__(self, filters, name):\n",
    "    super(G_Init_Block, self).__init__(name=name)\n",
    "    self.filters = filters\n",
    "    self.dense = layers.Dense(filters * 4 * 4, activation=tf.nn.leaky_relu,\n",
    "                              kernel_initializer='he_normal')\n",
    "    self.conv = layers.Conv2D(filters, 3, padding='same', activation=tf.nn.leaky_relu,\n",
    "                              kernel_initializer='he_normal')\n",
    "    self.pn = PixelNormalization()\n",
    "    \n",
    "  def call(self, inputs):\n",
    "    dense = self.dense(inputs)\n",
    "    dense = self.pn(dense)\n",
    "    dense = tf.reshape(dense, shape=[-1, 4, 4, self.filters])\n",
    "    conv = self.conv(dense)\n",
    "    conv = self.pn(conv)\n",
    "    \n",
    "    return conv"
   ]
  },
  {
   "cell_type": "code",
   "execution_count": null,
   "metadata": {},
   "outputs": [],
   "source": [
    "class to_RGB(tf.keras.Model):\n",
    "  def __init__(self, name):\n",
    "    super(to_RGB, self).__init__(name=name)\n",
    "    self.conv = layers.Conv2D(3, 1, padding='same', kernel_initializer='he_normal')\n",
    "    \n",
    "  def call(self, inputs):\n",
    "    conv = self.conv(inputs)\n",
    "    \n",
    "    return conv"
   ]
  },
  {
   "cell_type": "code",
   "execution_count": null,
   "metadata": {
    "ExecuteTime": {
     "end_time": "2019-03-12T10:38:42.495220Z",
     "start_time": "2019-03-12T10:38:42.481174Z"
    },
    "cell_style": "center"
   },
   "outputs": [],
   "source": [
    "class Generator(tf.keras.Model):\n",
    "  \"\"\"Build a generator that maps latent space to real space.\n",
    "    G(z): z -> x\n",
    "  \"\"\"\n",
    "  def __init__(self):\n",
    "    super(Generator, self).__init__()\n",
    "    self.block1 = G_Init_Block(512, '4x4')  # [bs, 4, 4, 512]\n",
    "    self.block2 = G_Block(512, '8x8')       # [bs, 8, 8, 512]\n",
    "    self.block3 = G_Block(512, '16x16')     # [bs, 16, 16, 512]\n",
    "    self.block4 = G_Block(512, '32x32')     # [bs, 32, 32, 512]\n",
    "    self.to_RGB = to_RGB('0xto_rgb')          # [bs, height, width, 3]\n",
    "    self.upsample = layers.UpSampling2D()\n",
    "\n",
    "  def call(self, inputs, current_resolution, current_phase, alpha=0.0):\n",
    "    \"\"\"Run the model.\"\"\"\n",
    "    #assert current_resolution in [4, 8, 16, 32]\n",
    "    #assert current_phase in ['training', 'transition']\n",
    "    \n",
    "    # inputs: [1, 1, 512]\n",
    "    outputs = block1 = self.block1(inputs)\n",
    "    \n",
    "    if current_resolution > 4:\n",
    "      outputs = block2 = self.block2(outputs)\n",
    "      prev_outputs = block1\n",
    "      \n",
    "    if current_resolution > 8:\n",
    "      outputs = block3 = self.block3(outputs)\n",
    "      prev_outputs = block2\n",
    "      \n",
    "    if current_resolution > 16:\n",
    "      outputs = block4 = self.block4(outputs)\n",
    "      prev_outputs = block3\n",
    "    \n",
    "    generated_images = self.to_RGB(outputs)\n",
    "    \n",
    "    if current_phase == 'transition':\n",
    "      prev_outputs = self.upsample(self.to_RGB(prev_outputs))\n",
    "      generated_images = alpha * generated_images + (1. - alpha) * prev_outputs\n",
    "    \n",
    "    return generated_images"
   ]
  },
  {
   "cell_type": "code",
   "execution_count": null,
   "metadata": {},
   "outputs": [],
   "source": [
    "class D_Block(tf.keras.Model):\n",
    "  def __init__(self, filters1, filters2, name):\n",
    "    super(D_Block, self).__init__(name=name)\n",
    "    self.conv1 = layers.Conv2D(filters1, 3, padding='same', activation=tf.nn.leaky_relu,\n",
    "                               kernel_initializer='he_normal')\n",
    "    self.conv2 = layers.Conv2D(filters2, 3, padding='same', activation=tf.nn.leaky_relu,\n",
    "                               kernel_initializer='he_normal')\n",
    "    self.downsample = layers.AveragePooling2D()\n",
    "    \n",
    "  def call(self, inputs):\n",
    "    conv1 = self.conv1(inputs)\n",
    "    conv2 = self.conv2(conv1)\n",
    "    downsample = self.downsample(conv2)\n",
    "    \n",
    "    return downsample"
   ]
  },
  {
   "cell_type": "code",
   "execution_count": null,
   "metadata": {},
   "outputs": [],
   "source": [
    "class D_Last_Block(tf.keras.Model):\n",
    "  def __init__(self, filters1, filters2, name):\n",
    "    super(D_Last_Block, self).__init__(name=name)\n",
    "    self.conv1 = layers.Conv2D(filters1, 3, padding='same', activation=tf.nn.leaky_relu,\n",
    "                               kernel_initializer='he_normal')\n",
    "    self.conv2 = layers.Conv2D(filters1, 4, padding='same', activation=tf.nn.leaky_relu,\n",
    "                               kernel_initializer='he_normal')\n",
    "    self.flatten = layers.Flatten()\n",
    "    self.dense = layers.Dense(1, kernel_initializer='he_normal')\n",
    "    \n",
    "  def call(self, inputs):\n",
    "    conv1 = self.conv1(inputs)\n",
    "    conv2 = self.conv2(conv1)\n",
    "    flatten = self.flatten(conv2)\n",
    "    dense = self.dense(flatten)\n",
    "\n",
    "    return dense"
   ]
  },
  {
   "cell_type": "code",
   "execution_count": null,
   "metadata": {},
   "outputs": [],
   "source": [
    "class from_RGB(tf.keras.Model):\n",
    "  def __init__(self, filters, name):\n",
    "    super(from_RGB, self).__init__(name=name)\n",
    "    self.conv = layers.Conv2D(filters, 1, padding='same', activation=tf.nn.leaky_relu,\n",
    "                              kernel_initializer='he_normal')\n",
    "    \n",
    "  def call(self, inputs):\n",
    "    conv = self.conv(inputs)\n",
    "    \n",
    "    return conv"
   ]
  },
  {
   "cell_type": "code",
   "execution_count": null,
   "metadata": {
    "ExecuteTime": {
     "end_time": "2019-03-12T10:38:42.511332Z",
     "start_time": "2019-03-12T10:38:42.502065Z"
    }
   },
   "outputs": [],
   "source": [
    "class Discriminator(tf.keras.Model):\n",
    "  \"\"\"Build a discriminator that discriminate real image x whether real or fake.\n",
    "    D(x): x -> [0, 1]\n",
    "  \"\"\"\n",
    "  def __init__(self):\n",
    "    super(Discriminator, self).__init__()\n",
    "    self.from_RGB = from_RGB(512, '0xfrom_rgb')   # [bs, height, width, 3]\n",
    "    self.block1 = D_Block(512, 512, '32x32')    # [bs, 16, 16, 32]\n",
    "    self.block2 = D_Block(512, 512, '16x16')    # [bs, 8, 8, 64]\n",
    "    self.block3 = D_Block(512, 512, '8x8')      # [bs, 4, 4, 128]\n",
    "    self.block4 = D_Last_Block(512, 512, '4x4') # [bs, 1]\n",
    "    self.downsample = layers.AveragePooling2D()\n",
    "\n",
    "  def call(self, inputs, current_resolution, current_phase, alpha=0.0):\n",
    "    \"\"\"Run the model.\"\"\"\n",
    "    #assert current_resolution in [4, 8, 16, 32]\n",
    "    #assert current_phase in ['training', 'transition']\n",
    "    \n",
    "    new_inputs = self.from_RGB(inputs)\n",
    "    \n",
    "    if current_phase == 'transition':\n",
    "      smoothing_inputs = self.from_RGB(self.downsample(inputs))\n",
    "    \n",
    "    if current_resolution > 16:\n",
    "      new_inputs = block1 = self.block1(new_inputs)\n",
    "      if current_phase == 'transition' and current_resolution == 32:\n",
    "        new_inputs = alpha * block1 + (1. - alpha) * smoothing_inputs\n",
    "    \n",
    "    if current_resolution > 8:\n",
    "      new_inputs = block2 = self.block2(new_inputs)\n",
    "      if current_phase == 'transition' and current_resolution == 16:\n",
    "        new_inputs = alpha * block2 + (1. - alpha) * smoothing_inputs\n",
    "      \n",
    "    if current_resolution > 4:\n",
    "      new_inputs = block3 = self.block3(new_inputs)\n",
    "      if current_phase == 'transition' and current_resolution == 8:\n",
    "        new_inputs = alpha * block3 + (1. - alpha) * smoothing_inputs\n",
    "      \n",
    "    discriminator_logits = self.block4(new_inputs)\n",
    "    \n",
    "    return discriminator_logits"
   ]
  },
  {
   "cell_type": "code",
   "execution_count": null,
   "metadata": {
    "ExecuteTime": {
     "end_time": "2019-03-12T10:38:42.538342Z",
     "start_time": "2019-03-12T10:38:42.516361Z"
    }
   },
   "outputs": [],
   "source": [
    "generator = Generator()\n",
    "discriminator = Discriminator()"
   ]
  },
  {
   "cell_type": "markdown",
   "metadata": {},
   "source": [
    "## Define the loss functions and the optimizer"
   ]
  },
  {
   "cell_type": "code",
   "execution_count": null,
   "metadata": {
    "ExecuteTime": {
     "end_time": "2019-03-12T10:38:44.601547Z",
     "start_time": "2019-03-12T10:38:44.596217Z"
    }
   },
   "outputs": [],
   "source": [
    "# use logits for consistency with previous code I made\n",
    "# `tf.losses` and `tf.keras.losses` are the same API (alias)\n",
    "bce = tf.losses.BinaryCrossentropy(from_logits=True)\n",
    "mse = tf.losses.MeanSquaredError()"
   ]
  },
  {
   "cell_type": "code",
   "execution_count": null,
   "metadata": {
    "ExecuteTime": {
     "end_time": "2019-03-12T10:38:44.614149Z",
     "start_time": "2019-03-12T10:38:44.606433Z"
    }
   },
   "outputs": [],
   "source": [
    "def WGANLoss(logits, is_real=True):\n",
    "  \"\"\"Computes Wasserstain GAN loss\n",
    "\n",
    "  Args:\n",
    "    logits (`2-rank Tensor`): logits\n",
    "    is_real (`bool`): boolean, Treu means `-` sign, False means `+` sign.\n",
    "\n",
    "  Returns:\n",
    "    loss (`0-rank Tensor`): the WGAN loss value.\n",
    "  \"\"\"\n",
    "  if is_real:\n",
    "    return -tf.reduce_mean(logits)\n",
    "  else:\n",
    "    return tf.reduce_mean(logits)"
   ]
  },
  {
   "cell_type": "code",
   "execution_count": null,
   "metadata": {
    "ExecuteTime": {
     "end_time": "2019-03-12T10:38:44.633209Z",
     "start_time": "2019-03-12T10:38:44.621508Z"
    }
   },
   "outputs": [],
   "source": [
    "def GANLoss(logits, is_real=True, use_lsgan=True):\n",
    "  \"\"\"Computes standard GAN or LSGAN loss between `logits` and `labels`.\n",
    "\n",
    "  Args:\n",
    "    logits (`2-rank Tensor`): logits.\n",
    "    is_real (`bool`): True means `1` labeling, False means `0` labeling.\n",
    "    use_lsgan (`bool`): True means LSGAN loss, False means standard GAN loss.\n",
    "\n",
    "  Returns:\n",
    "    loss (`0-rank Tensor`): the standard GAN or LSGAN loss value. (binary_cross_entropy or mean_squared_error)\n",
    "  \"\"\"\n",
    "  if is_real:\n",
    "    labels = tf.ones_like(logits)\n",
    "  else:\n",
    "    labels = tf.zeros_like(logits)\n",
    "    \n",
    "  if use_lsgan:\n",
    "    loss = mse(labels, tf.nn.sigmoid(logits))\n",
    "  else:\n",
    "    loss = bce(labels, logits)\n",
    "    \n",
    "  return loss"
   ]
  },
  {
   "cell_type": "code",
   "execution_count": null,
   "metadata": {
    "ExecuteTime": {
     "end_time": "2019-03-12T10:38:44.644567Z",
     "start_time": "2019-03-12T10:38:44.637868Z"
    }
   },
   "outputs": [],
   "source": [
    "def discriminator_loss(real_logits, fake_logits):\n",
    "  # losses of real with label \"1\"\n",
    "  real_loss = WGANLoss(logits=real_logits, is_real=True)\n",
    "  # losses of fake with label \"0\"\n",
    "  fake_loss = WGANLoss(logits=fake_logits, is_real=False)\n",
    "  \n",
    "  return real_loss + fake_loss"
   ]
  },
  {
   "cell_type": "code",
   "execution_count": null,
   "metadata": {
    "ExecuteTime": {
     "end_time": "2019-03-12T10:38:44.656168Z",
     "start_time": "2019-03-12T10:38:44.649239Z"
    }
   },
   "outputs": [],
   "source": [
    "def generator_loss(fake_logits):\n",
    "  # losses of Generator with label \"1\" that used to fool the Discriminator\n",
    "  return WGANLoss(logits=fake_logits, is_real=True)"
   ]
  },
  {
   "cell_type": "code",
   "execution_count": null,
   "metadata": {},
   "outputs": [],
   "source": [
    "discriminator_optimizer = tf.keras.optimizers.Adam(learning_rate_D, beta_1=0.0, beta_2=0.99, epsilon=1e-8)\n",
    "generator_optimizer = tf.keras.optimizers.Adam(learning_rate_G, beta_1=0.0, beta_2=0.99, epsilon=1e-8)"
   ]
  },
  {
   "cell_type": "markdown",
   "metadata": {},
   "source": [
    "## Checkpoints (Object-based saving)"
   ]
  },
  {
   "cell_type": "code",
   "execution_count": null,
   "metadata": {
    "ExecuteTime": {
     "end_time": "2019-03-12T10:38:44.681373Z",
     "start_time": "2019-03-12T10:38:44.673169Z"
    }
   },
   "outputs": [],
   "source": [
    "checkpoint_dir = train_dir\n",
    "if not tf.io.gfile.exists(checkpoint_dir):\n",
    "  tf.io.gfile.makedirs(checkpoint_dir)\n",
    "checkpoint_prefix = os.path.join(checkpoint_dir, \"ckpt\")\n",
    "checkpoint = tf.train.Checkpoint(generator_optimizer=generator_optimizer,\n",
    "                                 discriminator_optimizer=discriminator_optimizer,\n",
    "                                 generator=generator,\n",
    "                                 discriminator=discriminator)"
   ]
  },
  {
   "cell_type": "markdown",
   "metadata": {},
   "source": [
    "## Training"
   ]
  },
  {
   "cell_type": "code",
   "execution_count": null,
   "metadata": {
    "ExecuteTime": {
     "end_time": "2019-03-12T10:38:44.702303Z",
     "start_time": "2019-03-12T10:38:44.685717Z"
    }
   },
   "outputs": [],
   "source": [
    "# keeping the random vector constant for generation (prediction) so\n",
    "# it will be easier to see the improvement of the gan.\n",
    "# To visualize progress in the animated GIF\n",
    "const_random_vector_for_saving = tf.random.uniform([num_examples_to_generate, noise_dim],\n",
    "                                                   minval=-1.0, maxval=1.0)"
   ]
  },
  {
   "cell_type": "markdown",
   "metadata": {},
   "source": [
    "### Define training one step function"
   ]
  },
  {
   "cell_type": "code",
   "execution_count": null,
   "metadata": {},
   "outputs": [],
   "source": [
    "def get_discriminator_tvars(current_resolution):\n",
    "  d_tvars = []\n",
    "  for var in discriminator.trainable_variables:\n",
    "    if current_resolution >= int(var.name.split('/')[1].split('x')[0]):\n",
    "      d_tvars.append(var)\n",
    "      \n",
    "  return d_tvars"
   ]
  },
  {
   "cell_type": "code",
   "execution_count": null,
   "metadata": {},
   "outputs": [],
   "source": [
    "def get_generator_tvars(current_resolution):\n",
    "  g_tvars = []\n",
    "  for var in generator.trainable_variables:\n",
    "    if current_resolution >= int(var.name.split('/')[1].split('x')[0]):\n",
    "      g_tvars.append(var)\n",
    "  \n",
    "  return g_tvars"
   ]
  },
  {
   "cell_type": "code",
   "execution_count": null,
   "metadata": {},
   "outputs": [],
   "source": [
    "# Notice the use of `tf.function`\n",
    "# This annotation causes the function to be \"compiled\".\n",
    "@tf.function\n",
    "def discriminator_train_step(images, current_resolution, current_phase, alpha=0.0):\n",
    "  # generating noise from a uniform distribution\n",
    "  noise = tf.random.uniform([batch_size, noise_dim], minval=-1.0, maxval=1.0)\n",
    "\n",
    "  with tf.GradientTape() as disc_tape:\n",
    "    generated_images = generator(noise, current_resolution, current_phase, alpha)\n",
    "\n",
    "    real_logits = discriminator(images, current_resolution, current_phase, alpha)\n",
    "    fake_logits = discriminator(generated_images, current_resolution, current_phase, alpha)\n",
    "   \n",
    "    # interpolation of x hat for gradient penalty : epsilon * real image + (1 - epsilon) * generated image\n",
    "    epsilon = tf.random.uniform([batch_size, 1, 1, 1])\n",
    "    epsilon = tf.expand_dims(tf.stack([tf.stack([epsilon]*current_resolution, axis=1)]*current_resolution, axis=1), axis=3)\n",
    "    interpolated_images_4gp = epsilon * images + (1. - epsilon) * generated_images\n",
    "    with tf.GradientTape() as gp_tape:\n",
    "      gp_tape.watch(interpolated_images_4gp)\n",
    "      interpolated_images_logits = discriminator(interpolated_images_4gp, current_resolution, current_phase, alpha)\n",
    "      \n",
    "    gradients_of_interpolated_images = gp_tape.gradient(interpolated_images_logits, interpolated_images_4gp)\n",
    "    norm_grads = tf.sqrt(tf.reduce_sum(tf.square(gradients_of_interpolated_images), axis=[1, 2, 3]))\n",
    "    gradient_penalty_loss = tf.reduce_mean(tf.square(norm_grads - 1.))\n",
    "    \n",
    "    disc_loss = discriminator_loss(real_logits, fake_logits) + gp_lambda * gradient_penalty_loss\n",
    "    gen_loss = generator_loss(fake_logits)\n",
    "\n",
    "  d_tvars = get_discriminator_tvars(current_resolution)\n",
    "  gradients_of_discriminator = disc_tape.gradient(disc_loss, d_tvars)\n",
    "  discriminator_optimizer.apply_gradients(zip(gradients_of_discriminator, d_tvars))\n",
    "      \n",
    "  return gen_loss, disc_loss"
   ]
  },
  {
   "cell_type": "code",
   "execution_count": null,
   "metadata": {},
   "outputs": [],
   "source": [
    "# Notice the use of `tf.function`\n",
    "# This annotation causes the function to be \"compiled\".\n",
    "@tf.function\n",
    "def generator_train_step(current_resolution, current_phase, alpha=0.0):\n",
    "  # generating noise from a uniform distribution\n",
    "  noise = tf.random.uniform([batch_size, noise_dim], minval=-1.0, maxval=1.0)\n",
    "\n",
    "  with tf.GradientTape() as gen_tape:\n",
    "    generated_images = generator(noise, current_resolution, current_phase, alpha)\n",
    "\n",
    "    fake_logits = discriminator(generated_images, current_resolution, current_phase, alpha)\n",
    "    gen_loss = generator_loss(fake_logits)\n",
    "\n",
    "  g_tvars = get_generator_tvars(current_resolution)\n",
    "  gradients_of_generator = gen_tape.gradient(gen_loss, g_tvars)\n",
    "  generator_optimizer.apply_gradients(zip(gradients_of_generator, g_tvars))"
   ]
  },
  {
   "cell_type": "code",
   "execution_count": null,
   "metadata": {},
   "outputs": [],
   "source": [
    "def print_log(global_epoch, step, global_step, start_time, disc_loss, gen_loss):\n",
    "  epochs = global_epoch + (step+1) / float(num_batches_per_epoch)\n",
    "  duration = time.time() - start_time\n",
    "  examples_per_sec = batch_size / float(duration)\n",
    "  display.clear_output(wait=True)\n",
    "  print(\"Epochs: {:.2f} global_step: {} loss_D: {:.3g} loss_G: {:.3g} ({:.2f} examples/sec; {:.3f} sec/batch)\".format(\n",
    "          epochs, global_step, disc_loss, gen_loss, examples_per_sec, duration))"
   ]
  },
  {
   "cell_type": "code",
   "execution_count": null,
   "metadata": {},
   "outputs": [],
   "source": [
    "def print_samples(current_resolution, random_vector_for_sampling=None):\n",
    "  if random_vector_for_sampling is None:\n",
    "    random_vector_for_sampling = tf.random.uniform([num_examples_to_generate, 1, 1, noise_dim],\n",
    "                                                   minval=-1.0, maxval=1.0)\n",
    "  sample_images = generator(random_vector_for_sampling, current_resolution, 'training')\n",
    "  print_or_save_sample_images(sample_images.numpy(), num_examples_to_generate)"
   ]
  },
  {
   "cell_type": "code",
   "execution_count": null,
   "metadata": {},
   "outputs": [],
   "source": [
    "# Initialize full size networks for making full size static graph\n",
    "TARGET_SIZE = CIFAR_SIZE\n",
    "_, _ = discriminator_train_step(tf.random.normal([batch_size, TARGET_SIZE, TARGET_SIZE, 3]), TARGET_SIZE, 'transition')\n",
    "generator_train_step(TARGET_SIZE, 'transition')"
   ]
  },
  {
   "cell_type": "code",
   "execution_count": null,
   "metadata": {
    "ExecuteTime": {
     "end_time": "2019-03-12T10:38:50.869536Z",
     "start_time": "2019-03-12T10:38:44.709169Z"
    }
   },
   "outputs": [],
   "source": [
    "print('Start Training.')\n",
    "num_batches_per_epoch = int(N / batch_size)\n",
    "global_step = 1 #tf.Variable(0, trainable=False)\n",
    "global_epoch = 0\n",
    "num_learning_critic = 0\n",
    "\n",
    "train_datasets = [train_dataset8, train_dataset16, train_dataset32]\n",
    "\n",
    "# 4 x 4 training phase\n",
    "current_resolution = 4\n",
    "for epoch in range(training_phase_epoch):\n",
    "  for step, images in enumerate(train_dataset4):\n",
    "    start_time = time.time()\n",
    "    \n",
    "    gen_loss, disc_loss = discriminator_train_step(images, current_resolution, 'training')\n",
    "    generator_train_step(current_resolution, 'training')\n",
    "    if global_step % (print_steps//current_resolution) == 0:\n",
    "      print_log(global_epoch, step, global_step, start_time, disc_loss, gen_loss)\n",
    "      print_samples(current_resolution)\n",
    "    \n",
    "    global_step += 1\n",
    "  global_epoch += 1\n",
    "\n",
    "\n",
    "for resolution, train_dataset in enumerate(train_datasets):\n",
    "  current_resolution = 2**(resolution+3)\n",
    "  \n",
    "  # transition phase\n",
    "  for epoch in range(transition_phase_epoch):\n",
    "    for step, images in enumerate(train_dataset):\n",
    "      start_time = time.time()\n",
    "      alpha = (epoch * num_batches_per_epoch + step) / float(transition_phase_epoch * num_batches_per_epoch)\n",
    "      gen_loss, disc_loss = discriminator_train_step(images, current_resolution, 'transition', alpha)\n",
    "      generator_train_step(current_resolution, 'transition', alpha)\n",
    "      \n",
    "      if global_step % (print_steps//current_resolution) == 0:\n",
    "        print_log(global_epoch, step, global_step, start_time, disc_loss, gen_loss)\n",
    "        print_samples(current_resolution)\n",
    "      \n",
    "      global_step += 1\n",
    "    global_epoch += 1\n",
    "      \n",
    "  # training phase\n",
    "  for epoch in range(training_phase_epoch):\n",
    "    for step, images in enumerate(train_dataset):\n",
    "      start_time = time.time()\n",
    "      gen_loss, disc_loss = discriminator_train_step(images, current_resolution, 'training')\n",
    "      generator_train_step(current_resolution, 'training')\n",
    "      \n",
    "      if global_step % (print_steps//current_resolution) == 0:\n",
    "        print_log(global_epoch, step, global_step, start_time, disc_loss, gen_loss)\n",
    "        print_samples(current_resolution)\n",
    "      \n",
    "      global_step += 1\n",
    "    global_epoch += 1\n",
    "\n",
    "\n",
    "#   if (epoch + 1) % save_images_epochs == 0:\n",
    "#     display.clear_output(wait=True)\n",
    "#     print(\"This images are saved at {} epoch\".format(epoch+1))\n",
    "#     sample_images = generator(const_random_vector_for_saving, training=False)\n",
    "#     print_or_save_sample_images(sample_images.numpy(), num_examples_to_generate,\n",
    "#                                 is_square=True, is_save=True, epoch=epoch+1,\n",
    "#                                 checkpoint_dir=checkpoint_dir)\n",
    "\n",
    "#   # saving (checkpoint) the model every save_epochs\n",
    "#   if (epoch + 1) % save_model_epochs == 0:\n",
    "#     checkpoint.save(file_prefix=checkpoint_prefix)\n",
    "    \n",
    "print('Training Done.')"
   ]
  },
  {
   "cell_type": "code",
   "execution_count": null,
   "metadata": {
    "ExecuteTime": {
     "end_time": "2019-03-12T10:38:50.920954Z",
     "start_time": "2019-03-12T10:38:38.611Z"
    }
   },
   "outputs": [],
   "source": [
    "# generating after the final epoch\n",
    "# display.clear_output(wait=True)\n",
    "# sample_images = generator(const_random_vector_for_saving, training=False)\n",
    "# print_or_save_sample_images(sample_images.numpy(), num_examples_to_generate,\n",
    "#                             is_square=True, is_save=True, epoch=epoch+1,\n",
    "#                             checkpoint_dir=checkpoint_dir)"
   ]
  },
  {
   "cell_type": "markdown",
   "metadata": {},
   "source": [
    "## Restore the latest checkpoint"
   ]
  },
  {
   "cell_type": "code",
   "execution_count": null,
   "metadata": {
    "ExecuteTime": {
     "end_time": "2019-03-12T10:38:50.924174Z",
     "start_time": "2019-03-12T10:38:38.643Z"
    }
   },
   "outputs": [],
   "source": [
    "# restoring the latest checkpoint in checkpoint_dir\n",
    "#checkpoint.restore(tf.train.latest_checkpoint(checkpoint_dir))"
   ]
  },
  {
   "cell_type": "markdown",
   "metadata": {},
   "source": [
    "## Display an image using the epoch number"
   ]
  },
  {
   "cell_type": "code",
   "execution_count": null,
   "metadata": {
    "ExecuteTime": {
     "end_time": "2019-03-12T10:38:50.927566Z",
     "start_time": "2019-03-12T10:38:38.676Z"
    }
   },
   "outputs": [],
   "source": [
    "# display_image(max_epochs, checkpoint_dir)"
   ]
  },
  {
   "cell_type": "markdown",
   "metadata": {},
   "source": [
    "## Generate a GIF of all the saved images."
   ]
  },
  {
   "cell_type": "code",
   "execution_count": null,
   "metadata": {
    "ExecuteTime": {
     "end_time": "2019-03-12T10:38:50.931186Z",
     "start_time": "2019-03-12T10:38:38.709Z"
    }
   },
   "outputs": [],
   "source": [
    "# filename = model_name + '_' + dataset_name + '.gif'\n",
    "# generate_gif(filename, checkpoint_dir)"
   ]
  },
  {
   "cell_type": "code",
   "execution_count": null,
   "metadata": {
    "ExecuteTime": {
     "end_time": "2019-03-12T10:38:50.934471Z",
     "start_time": "2019-03-12T10:38:38.712Z"
    },
    "scrolled": true
   },
   "outputs": [],
   "source": [
    "# display.Image(filename=filename + '.png')"
   ]
  }
 ],
 "metadata": {
  "kernelspec": {
   "display_name": "Python 3",
   "language": "python",
   "name": "python3"
  },
  "language_info": {
   "codemirror_mode": {
    "name": "ipython",
    "version": 3
   },
   "file_extension": ".py",
   "mimetype": "text/x-python",
   "name": "python",
   "nbconvert_exporter": "python",
   "pygments_lexer": "ipython3",
   "version": "3.6.5"
  },
  "latex_envs": {
   "LaTeX_envs_menu_present": true,
   "autoclose": false,
   "autocomplete": true,
   "bibliofile": "biblio.bib",
   "cite_by": "apalike",
   "current_citInitial": 1,
   "eqLabelWithNumbers": true,
   "eqNumInitial": 1,
   "hotkeys": {
    "equation": "Ctrl-E",
    "itemize": "Ctrl-I"
   },
   "labels_anchors": false,
   "latex_user_defs": false,
   "report_style_numbering": false,
   "user_envs_cfg": false
  },
  "toc": {
   "base_numbering": 1,
   "nav_menu": {},
   "number_sections": true,
   "sideBar": true,
   "skip_h1_title": false,
   "title_cell": "Table of Contents",
   "title_sidebar": "Contents",
   "toc_cell": false,
   "toc_position": {},
   "toc_section_display": true,
   "toc_window_display": false
  },
  "varInspector": {
   "cols": {
    "lenName": 16,
    "lenType": 16,
    "lenVar": 40
   },
   "kernels_config": {
    "python": {
     "delete_cmd_postfix": "",
     "delete_cmd_prefix": "del ",
     "library": "var_list.py",
     "varRefreshCmd": "print(var_dic_list())"
    },
    "r": {
     "delete_cmd_postfix": ") ",
     "delete_cmd_prefix": "rm(",
     "library": "var_list.r",
     "varRefreshCmd": "cat(var_dic_list()) "
    }
   },
   "position": {
    "height": "413px",
    "left": "733px",
    "right": "2px",
    "top": "77px",
    "width": "493px"
   },
   "types_to_exclude": [
    "module",
    "function",
    "builtin_function_or_method",
    "instance",
    "_Feature"
   ],
   "window_display": false
  }
 },
 "nbformat": 4,
 "nbformat_minor": 2
}
