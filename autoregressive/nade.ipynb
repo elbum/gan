{
 "cells": [
  {
   "cell_type": "markdown",
   "metadata": {},
   "source": [
    "# Neural Autoregressive Density Estimation\n",
    "\n",
    "* `Neural Autoregressive Distribution Estimation`, [arXiv:1605.02226](https://arxiv.org/abs/1605.02226)\n",
    "  * Benigno Uria, Marc-Alexandre Cˆot ́e, Karol Gregor, Iain Murray, and Hugo Larochelle\n",
    "\n",
    "* This code is available to tensorflow version 2.0\n",
    "* Implemented by [`tf.keras.layers`](https://www.tensorflow.org/versions/r2.0/api_docs/python/tf/keras/layers) and [`tf.losses`](https://www.tensorflow.org/versions/r2.0/api_docs/python/tf/losses)"
   ]
  },
  {
   "cell_type": "markdown",
   "metadata": {},
   "source": [
    "## Import modules"
   ]
  },
  {
   "cell_type": "code",
   "execution_count": null,
   "metadata": {},
   "outputs": [],
   "source": [
    "from __future__ import absolute_import\n",
    "from __future__ import division\n",
    "from __future__ import print_function\n",
    "from __future__ import unicode_literals\n",
    "\n",
    "import os\n",
    "import sys\n",
    "import time\n",
    "import glob\n",
    "\n",
    "import numpy as np\n",
    "import matplotlib.pyplot as plt\n",
    "%matplotlib inline\n",
    "\n",
    "import PIL\n",
    "import imageio\n",
    "from IPython import display\n",
    "\n",
    "import tensorflow as tf\n",
    "from tensorflow.keras import layers\n",
    "\n",
    "sys.path.append(os.path.dirname(os.path.abspath('.')))\n",
    "from utils.image_utils import *\n",
    "from utils.ops import *\n",
    "\n",
    "os.environ[\"CUDA_VISIBLE_DEVICES\"]=\"0\""
   ]
  },
  {
   "cell_type": "markdown",
   "metadata": {},
   "source": [
    "## Setting hyperparameters"
   ]
  },
  {
   "cell_type": "code",
   "execution_count": null,
   "metadata": {},
   "outputs": [],
   "source": [
    "# Training Flags (hyperparameter configuration)\n",
    "model_name = 'nade'\n",
    "train_dir = os.path.join('train', model_name, 'exp1')\n",
    "dataset_name = 'mnist'\n",
    "assert dataset_name in ['mnist', 'fashion_mnist']\n",
    "\n",
    "max_epochs = 10\n",
    "save_model_epochs = 1\n",
    "print_steps = 10\n",
    "save_images_epochs = 1\n",
    "batch_size = 128\n",
    "learning_rate = 5e-2\n",
    "num_examples_to_generate = 16\n",
    "MNIST_SIZE = 28\n",
    "hidden_dims = 500"
   ]
  },
  {
   "cell_type": "markdown",
   "metadata": {},
   "source": [
    "## Load the MNIST dataset"
   ]
  },
  {
   "cell_type": "code",
   "execution_count": null,
   "metadata": {},
   "outputs": [],
   "source": [
    "# Load training and eval data from tf.keras\n",
    "if dataset_name == 'mnist':\n",
    "  (train_images, train_labels), (test_images, test_labels) = \\\n",
    "      tf.keras.datasets.mnist.load_data()\n",
    "  p = 0.5\n",
    "else:\n",
    "  (train_images, train_labels), (test_images, test_labels) = \\\n",
    "      tf.keras.datasets.fashion_mnist.load_data()\n",
    "  p = 0.3\n",
    "\n",
    "train_images = train_images.reshape(-1, MNIST_SIZE * MNIST_SIZE).astype('float32')\n",
    "train_images = train_images / 255.\n",
    "\n",
    "# Binarization\n",
    "train_images[train_images >= p] = 1.\n",
    "train_images[train_images < p] = 0."
   ]
  },
  {
   "cell_type": "code",
   "execution_count": null,
   "metadata": {},
   "outputs": [],
   "source": [
    "index = 219\n",
    "print(\"label = {}\".format(train_labels[index]))\n",
    "\n",
    "plt.imshow(train_images[index].reshape([MNIST_SIZE, MNIST_SIZE]))\n",
    "plt.colorbar()\n",
    "#plt.gca().grid(False)\n",
    "plt.show()"
   ]
  },
  {
   "cell_type": "markdown",
   "metadata": {},
   "source": [
    "## Set up dataset with `tf.data`\n",
    "\n",
    "### create input pipeline with `tf.data.Dataset`"
   ]
  },
  {
   "cell_type": "code",
   "execution_count": null,
   "metadata": {},
   "outputs": [],
   "source": [
    "#tf.random.set_seed(219)\n",
    "\n",
    "# for train\n",
    "N = len(train_images)\n",
    "train_dataset = tf.data.Dataset.from_tensor_slices(train_images)\n",
    "train_dataset = train_dataset.shuffle(buffer_size=N)\n",
    "train_dataset = train_dataset.batch(batch_size=batch_size, drop_remainder=True)\n",
    "print(train_dataset)"
   ]
  },
  {
   "cell_type": "markdown",
   "metadata": {},
   "source": [
    "## Create the generator and discriminator models"
   ]
  },
  {
   "cell_type": "code",
   "execution_count": null,
   "metadata": {},
   "outputs": [],
   "source": [
    "def log_pmf(sample, probability):\n",
    "  epsilon = 1e-10\n",
    "  return sample * tf.math.log(probability + epsilon) + (1.-sample) * tf.math.log(1.-probability + epsilon)"
   ]
  },
  {
   "cell_type": "code",
   "execution_count": null,
   "metadata": {},
   "outputs": [],
   "source": [
    "class NeuralAutoregressiveDensityEstimation(tf.keras.Model):\n",
    "  def __init__(self, hidden_dims=hidden_dims):\n",
    "    \"\"\"Initiailize learnable parameters.\n",
    "    \n",
    "    Args:\n",
    "      hidden_dims (int): number of hidden unit in every dense layer (input to hidden)\n",
    "    \n",
    "    Values:\n",
    "      self.W (float32 2-rank Tensor): shared training weight of dense layer (input to hidden)\n",
    "      self.c (float32 1-rank Tensor): shared training bais of dense layer (input to hidden)\n",
    "      self.models (list): list of 783 dense layers\n",
    "    \"\"\"\n",
    "    super(NeuralAutoregressiveDensityEstimation, self).__init__()\n",
    "    self.hidden_dims = hidden_dims\n",
    "    self.W = tf.Variable(tf.random.normal(shape=[MNIST_SIZE**2, self.hidden_dims], mean=0., stddev=0.04),\n",
    "                         name='shared_weight')\n",
    "    self.c = tf.Variable(tf.zeros(shape=[self.hidden_dims]), name='shared_bias')\n",
    "    self.models = []\n",
    "    for i in range(0, MNIST_SIZE**2):\n",
    "      #self.models.append(tf.keras.Sequential([layers.InputLayer(input_shape=[self.hidden_dims]),\n",
    "      #                                        layers.Dense(units=1, activation='sigmoid')]))\n",
    "      self.models.append(layers.Dense(units=1, activation='sigmoid'))\n",
    "      \n",
    "  def call(self, inputs):\n",
    "    \"\"\"Build a log likelihood function.\n",
    "    Implement using papers' algorithm in order to reduce computation of p(x)\n",
    "    \n",
    "    Args:\n",
    "      inputs (float32 2-rank Tensor): MNIST data in one batch\n",
    "      \n",
    "    Returns:\n",
    "      logpx (float32 2-rank Tensor): log likelihood of corresponding batch data\n",
    "    \"\"\"\n",
    "    a = tf.stack([self.c] * batch_size)\n",
    "    logpx = 0.\n",
    "    for i in range(MNIST_SIZE**2):\n",
    "      h = tf.math.sigmoid(a)\n",
    "      probability = self.models[i](h)\n",
    "      logpx += log_pmf(inputs[:, i:i+1], probability)\n",
    "      a = a + tf.matmul(inputs[:, i:i+1], self.W[i:i+1, :])\n",
    "      \n",
    "    return logpx\n",
    "\n",
    "  \n",
    "  def sampling(self, num_samples):\n",
    "    \"\"\"Sample images\n",
    "    \n",
    "    Args:\n",
    "      num_samples (int): number of sample images\n",
    "      \n",
    "    Returns:\n",
    "      samples (float32 2-rank Tensor): sampling images\n",
    "    \"\"\"\n",
    "    h = tf.math.sigmoid(tf.stack([self.c] * num_samples))\n",
    "    init_pixel_probability = self.models[0](h)\n",
    "    samples = tf.Variable(tf.zeros(shape=[num_samples, MNIST_SIZE**2], dtype=tf.int32),\n",
    "                          name='sample_pixel')\n",
    "    samples[:, 0:1].assign(tf.random.categorical(tf.math.log(tf.concat((1. - init_pixel_probability,\n",
    "                                                                        init_pixel_probability), axis=1)),\n",
    "                                                 num_samples=1, dtype=tf.int32))\n",
    "    \n",
    "    for i in range(1, MNIST_SIZE**2):\n",
    "      h = tf.math.sigmoid(tf.matmul(tf.cast(samples[:, :i], dtype=tf.float32), self.W[:i, :]) + self.c)\n",
    "      probability_ith_pixel = self.models[i](h).numpy() # actually i+1 th pixel\n",
    "      samples[:, i:i+1].assign(tf.random.categorical(tf.math.log(tf.concat((1. - probability_ith_pixel,\n",
    "                                                                            probability_ith_pixel), axis=1)),\n",
    "                                                     num_samples=1, dtype=tf.int32))\n",
    "    return samples"
   ]
  },
  {
   "cell_type": "code",
   "execution_count": null,
   "metadata": {},
   "outputs": [],
   "source": [
    "nade = NeuralAutoregressiveDensityEstimation(hidden_dims=hidden_dims)"
   ]
  },
  {
   "cell_type": "markdown",
   "metadata": {},
   "source": [
    "## Define the loss functions and the optimizer\n",
    "\n",
    "* Actually we use the log likelihood function as loss function"
   ]
  },
  {
   "cell_type": "markdown",
   "metadata": {},
   "source": [
    "### Define optimizer"
   ]
  },
  {
   "cell_type": "code",
   "execution_count": null,
   "metadata": {},
   "outputs": [],
   "source": [
    "optimizer = tf.keras.optimizers.Adam(learning_rate, beta_1=0.5)\n",
    "#optimizer = tf.keras.optimizers.SGD(learning_rate)"
   ]
  },
  {
   "cell_type": "markdown",
   "metadata": {},
   "source": [
    "## Checkpoints (Object-based saving)"
   ]
  },
  {
   "cell_type": "code",
   "execution_count": null,
   "metadata": {},
   "outputs": [],
   "source": [
    "checkpoint_dir = train_dir\n",
    "if not tf.io.gfile.exists(checkpoint_dir):\n",
    "  tf.io.gfile.makedirs(checkpoint_dir)\n",
    "checkpoint_prefix = os.path.join(checkpoint_dir, \"ckpt\")\n",
    "checkpoint = tf.train.Checkpoint(optimizer=optimizer, nade=nade)"
   ]
  },
  {
   "cell_type": "markdown",
   "metadata": {},
   "source": [
    "## Training"
   ]
  },
  {
   "cell_type": "markdown",
   "metadata": {},
   "source": [
    "### Define training one step function"
   ]
  },
  {
   "cell_type": "code",
   "execution_count": null,
   "metadata": {},
   "outputs": [],
   "source": [
    "# Notice the use of `tf.function`\n",
    "# This annotation causes the function to be \"compiled\".\n",
    "@tf.function\n",
    "def train_step(images):\n",
    "  with tf.GradientTape() as tape:\n",
    "    log_likelihood = nade(images)\n",
    "    loss = -tf.reduce_mean(log_likelihood) # expected negative_log_likelihood\n",
    "      \n",
    "  gradients = tape.gradient(loss, nade.variables)\n",
    "  optimizer.apply_gradients(zip(gradients, nade.trainable_variables))\n",
    "  \n",
    "  return loss"
   ]
  },
  {
   "cell_type": "code",
   "execution_count": null,
   "metadata": {},
   "outputs": [],
   "source": []
  },
  {
   "cell_type": "markdown",
   "metadata": {},
   "source": [
    "### Training full steps"
   ]
  },
  {
   "cell_type": "code",
   "execution_count": null,
   "metadata": {
    "scrolled": true
   },
   "outputs": [],
   "source": [
    "print('Start Training.')\n",
    "num_batches_per_epoch = int(N / batch_size)\n",
    "global_step = tf.Variable(0, trainable=False)\n",
    "\n",
    "for epoch in range(max_epochs):\n",
    "  for step, images in enumerate(train_dataset):\n",
    "    start_time = time.time()\n",
    "\n",
    "    loss = train_step(images)\n",
    "    global_step.assign_add(1)\n",
    "    \n",
    "    if global_step.numpy() % print_steps == 0:\n",
    "      epochs = epoch + step / float(num_batches_per_epoch)\n",
    "      duration = time.time() - start_time\n",
    "      examples_per_sec = batch_size / float(duration)\n",
    "      display.clear_output(wait=True)\n",
    "      print(\"Epochs: {:.2f} global_step: {} loss: {:.3g} ({:.2f} examples/sec; {:.3f} sec/batch)\".format(\n",
    "                epochs, global_step.numpy(), loss.numpy(), examples_per_sec, duration))\n",
    "      sample_images = nade.sampling(num_examples_to_generate)\n",
    "      print_or_save_sample_images(sample_images.numpy(), num_examples_to_generate)\n",
    "      \n",
    "  if (epoch + 1) % save_images_epochs == 0:\n",
    "    display.clear_output(wait=True)\n",
    "    print(\"This images are saved at {} epoch\".format(epoch+1))\n",
    "    sample_images = nade.sampling(num_examples_to_generate)\n",
    "    print_or_save_sample_images(sample_images.numpy(), num_examples_to_generate,\n",
    "                                is_square=True, is_save=True, epoch=epoch+1,\n",
    "                                checkpoint_dir=checkpoint_dir)\n",
    "      \n",
    "  # saving (checkpoint) the model every save_epochs\n",
    "  if (epoch + 1) % save_model_epochs == 0:\n",
    "    checkpoint.save(file_prefix=checkpoint_prefix)\n",
    "    \n",
    "print('Training Done.')"
   ]
  },
  {
   "cell_type": "code",
   "execution_count": null,
   "metadata": {},
   "outputs": [],
   "source": [
    "plt.imshow(sample_images[0].numpy().reshape([28, 28]))"
   ]
  },
  {
   "cell_type": "code",
   "execution_count": null,
   "metadata": {},
   "outputs": [],
   "source": [
    "# generating after the final epoch\n",
    "display.clear_output(wait=True)\n",
    "sample_images = nade.sampling(num_examples_to_generate)\n",
    "print_or_save_sample_images(sample_images.numpy(), num_examples_to_generate,\n",
    "                            is_square=True, is_save=True, epoch=epoch+1,\n",
    "                            checkpoint_dir=checkpoint_dir)"
   ]
  },
  {
   "cell_type": "markdown",
   "metadata": {},
   "source": [
    "## Restore the latest checkpoint"
   ]
  },
  {
   "cell_type": "code",
   "execution_count": null,
   "metadata": {},
   "outputs": [],
   "source": [
    "# restoring the latest checkpoint in checkpoint_dir\n",
    "checkpoint.restore(tf.train.latest_checkpoint(checkpoint_dir))"
   ]
  },
  {
   "cell_type": "markdown",
   "metadata": {},
   "source": [
    "## Display an image using the epoch number"
   ]
  },
  {
   "cell_type": "code",
   "execution_count": null,
   "metadata": {},
   "outputs": [],
   "source": [
    "display_image(max_epochs, checkpoint_dir=checkpoint_dir)"
   ]
  },
  {
   "cell_type": "markdown",
   "metadata": {},
   "source": [
    "## Generate a GIF of all the saved images."
   ]
  },
  {
   "cell_type": "code",
   "execution_count": null,
   "metadata": {},
   "outputs": [],
   "source": [
    "filename = model_name + '_' + dataset_name + '.gif'\n",
    "generate_gif(filename, checkpoint_dir)"
   ]
  },
  {
   "cell_type": "code",
   "execution_count": null,
   "metadata": {},
   "outputs": [],
   "source": [
    "display.Image(filename=filename + '.png')"
   ]
  },
  {
   "cell_type": "code",
   "execution_count": null,
   "metadata": {},
   "outputs": [],
   "source": []
  },
  {
   "cell_type": "code",
   "execution_count": null,
   "metadata": {},
   "outputs": [],
   "source": []
  },
  {
   "cell_type": "code",
   "execution_count": null,
   "metadata": {},
   "outputs": [],
   "source": []
  },
  {
   "cell_type": "code",
   "execution_count": null,
   "metadata": {},
   "outputs": [],
   "source": []
  },
  {
   "cell_type": "code",
   "execution_count": null,
   "metadata": {},
   "outputs": [],
   "source": []
  },
  {
   "cell_type": "code",
   "execution_count": null,
   "metadata": {},
   "outputs": [],
   "source": []
  },
  {
   "cell_type": "code",
   "execution_count": null,
   "metadata": {},
   "outputs": [],
   "source": []
  },
  {
   "cell_type": "code",
   "execution_count": null,
   "metadata": {},
   "outputs": [],
   "source": []
  },
  {
   "cell_type": "code",
   "execution_count": null,
   "metadata": {},
   "outputs": [],
   "source": []
  },
  {
   "cell_type": "code",
   "execution_count": null,
   "metadata": {},
   "outputs": [],
   "source": []
  },
  {
   "cell_type": "code",
   "execution_count": null,
   "metadata": {},
   "outputs": [],
   "source": []
  }
 ],
 "metadata": {
  "kernelspec": {
   "display_name": "Python 3",
   "language": "python",
   "name": "python3"
  },
  "language_info": {
   "codemirror_mode": {
    "name": "ipython",
    "version": 3
   },
   "file_extension": ".py",
   "mimetype": "text/x-python",
   "name": "python",
   "nbconvert_exporter": "python",
   "pygments_lexer": "ipython3",
   "version": "3.7.4"
  },
  "latex_envs": {
   "LaTeX_envs_menu_present": true,
   "autoclose": false,
   "autocomplete": true,
   "bibliofile": "biblio.bib",
   "cite_by": "apalike",
   "current_citInitial": 1,
   "eqLabelWithNumbers": true,
   "eqNumInitial": 1,
   "hotkeys": {
    "equation": "Ctrl-E",
    "itemize": "Ctrl-I"
   },
   "labels_anchors": false,
   "latex_user_defs": false,
   "report_style_numbering": false,
   "user_envs_cfg": false
  },
  "toc": {
   "base_numbering": 1,
   "nav_menu": {},
   "number_sections": true,
   "sideBar": true,
   "skip_h1_title": false,
   "title_cell": "Table of Contents",
   "title_sidebar": "Contents",
   "toc_cell": false,
   "toc_position": {},
   "toc_section_display": true,
   "toc_window_display": false
  },
  "varInspector": {
   "cols": {
    "lenName": 16,
    "lenType": 16,
    "lenVar": 40
   },
   "kernels_config": {
    "python": {
     "delete_cmd_postfix": "",
     "delete_cmd_prefix": "del ",
     "library": "var_list.py",
     "varRefreshCmd": "print(var_dic_list())"
    },
    "r": {
     "delete_cmd_postfix": ") ",
     "delete_cmd_prefix": "rm(",
     "library": "var_list.r",
     "varRefreshCmd": "cat(var_dic_list()) "
    }
   },
   "types_to_exclude": [
    "module",
    "function",
    "builtin_function_or_method",
    "instance",
    "_Feature"
   ],
   "window_display": false
  }
 },
 "nbformat": 4,
 "nbformat_minor": 2
}
