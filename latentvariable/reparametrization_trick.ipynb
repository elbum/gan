{
 "cells": [
  {
   "cell_type": "markdown",
   "metadata": {},
   "source": [
    "# Reparametrization trick in VAE\n",
    "\n",
    "* This notebook is copy from [here](https://nbviewer.jupyter.org/github/gokererdogan/Notebooks/blob/master/Reparameterization%20Trick.ipynb).\n",
    "* Reading good reference page [here](https://stats.stackexchange.com/questions/199605/how-does-the-reparameterization-trick-for-vaes-work-and-why-is-it-important?fbclid=IwAR2cKR7i9Z6F-f0mpGIg1NSJu9c7QvLO4gdFJUZCPNGgJ5M6a1QoGdLPZ78)"
   ]
  },
  {
   "cell_type": "markdown",
   "metadata": {},
   "source": [
    "Here we will understand the reparameterization trick used by Kingma and Welling (2014) to train their variational autoencoder.\n",
    "\n",
    "Assume we have a normal distribution $q$ that is parameterized by $\\theta$, specifically $q_{\\theta}(x) = \\mathcal{N}(θ,1)$. We want to solve the below problem\n",
    "\n",
    "$$min_{\\theta} \\mathbb{E}_{q}[x^{2}]$$\n",
    "\n",
    "This is of course a rather silly problem and the optimal $\\theta$ is obvious. We want to understand how the reparameterization trick helps in calculating the gradient of this objective $\\mathbb{E}_{q}[x^{2}]$.\n",
    "\n",
    "One way to calculate $\\nabla_{\\theta} \\mathbb{E}_{q}[x^{2}]$ is as follows\n",
    "\n",
    "$$\\nabla_{\\theta} \\mathbb{E}_{q}[x^{2}]\n",
    "= \\nabla_{\\theta} \\int q_{\\theta}(x) x^{2} \\mathrm{d}x\n",
    "= \\int x^{2} \\nabla_{\\theta} q_{\\theta}(x) \\frac{q_{\\theta}(x)}{q_{\\theta}(x)} \\mathrm{d}x\n",
    "= \\int q_{\\theta}(x) \\nabla_{\\theta} \\log q_{\\theta}(x) x^{2} \\mathrm{d}x\n",
    "= \\mathbb{E}_{q}[x^{2} \\nabla_{\\theta} \\log q_{\\theta}(x)]$$\n",
    "\n",
    "For our example where $q_{\\theta}(x) = \\mathcal{N}(\\theta,1)$, this method gives\n",
    "\n",
    "$$\\nabla_{\\theta} \\mathbb{E}_{q}[x^{2}] = \\mathbb{E}_{q}[x^{2}(x−θ)]$$\n",
    "\n",
    "Reparameterization trick is a way to rewrite the expectation so that the distribution with respect to which we take the expectation is independent of parameter $\\theta$. To achieve this, we need to make the stochastic element in $q$ independent of $\\theta$. Hence, we write $x$ as\n",
    "$$x = \\theta + \\epsilon,  \\epsilon \\sim \\mathcal{N}(\\theta, 1)$$\n",
    "\n",
    "Then, we can write\n",
    "$$\\mathbb{E}_{q}[x^{2}] = \\mathbb{E}_{p}[(\\theta + \\epsilon)^{2}]$$\n",
    "where $p$ is the distribution of $\\epsilon$, i.e., $\\mathcal{N}(0,1)$. Now we can write the derivative of $\\mathbb{E}_{q}[x^{2}]$ as follows\n",
    "$$\\nabla_{\\theta} \\mathbb{E}_{q}[x^{2}]\n",
    "= \\nabla_{\\theta} \\mathbb{E}_{p}[(\\theta + \\epsilon)^{2}]\n",
    "= \\mathbb{E}_{p}[2(\\theta + \\epsilon)]$$\n",
    "\n",
    "Now let us compare the variances of the two methods; we are hoping to see that the first method has high variance while reparameterization trick decreases the variance substantially."
   ]
  },
  {
   "cell_type": "code",
   "execution_count": 1,
   "metadata": {},
   "outputs": [],
   "source": [
    "from __future__ import absolute_import\n",
    "from __future__ import division\n",
    "from __future__ import print_function\n",
    "\n",
    "import os\n",
    "import sys\n",
    "import time\n",
    "import glob\n",
    "\n",
    "import numpy as np\n",
    "import matplotlib.pyplot as plt\n",
    "%matplotlib inline"
   ]
  },
  {
   "cell_type": "code",
   "execution_count": 3,
   "metadata": {},
   "outputs": [
    {
     "name": "stdout",
     "output_type": "stream",
     "text": [
      "grad1: 4.026824025589159\n",
      "grad2: 3.9341508758563757\n"
     ]
    }
   ],
   "source": [
    "import numpy as np\n",
    "N = 1000\n",
    "theta = 2.0\n",
    "eps = np.random.randn(N)\n",
    "x = theta + eps\n",
    "\n",
    "grad1 = lambda x: np.sum(np.square(x)*(x-theta)) / x.size\n",
    "grad2 = lambda eps: np.sum(2*(theta + eps)) / x.size\n",
    "\n",
    "print(\"grad1: {}\".format(grad1(x)))\n",
    "print(\"grad2: {}\".format(grad2(eps)))"
   ]
  },
  {
   "cell_type": "markdown",
   "metadata": {},
   "source": [
    "## Let us plot the variance for different sample sizes."
   ]
  },
  {
   "cell_type": "code",
   "execution_count": 4,
   "metadata": {},
   "outputs": [
    {
     "name": "stdout",
     "output_type": "stream",
     "text": [
      "[3.92514885 3.98900799 3.99864897 3.99119196 3.99841658]\n",
      "[4.00815322 3.9855625  4.0062116  3.99634223 3.99940004]\n",
      "[6.48277138e+00 9.23219505e-01 7.48278915e-02 7.10427990e-03\n",
      " 8.93286412e-04]\n",
      "[3.73226557e-01 3.64194584e-02 4.48596983e-03 4.55418337e-04\n",
      " 3.79240903e-05]\n"
     ]
    }
   ],
   "source": [
    "Ns = [10, 100, 1000, 10000, 100000]\n",
    "reps = 100\n",
    "\n",
    "means1 = np.zeros(len(Ns))\n",
    "vars1 = np.zeros(len(Ns))\n",
    "means2 = np.zeros(len(Ns))\n",
    "vars2 = np.zeros(len(Ns))\n",
    "\n",
    "est1 = np.zeros(reps)\n",
    "est2 = np.zeros(reps)\n",
    "for i, N in enumerate(Ns):\n",
    "    for r in range(reps):\n",
    "        x = np.random.randn(N) + theta\n",
    "        est1[r] = grad1(x)\n",
    "        eps = np.random.randn(N)\n",
    "        est2[r] = grad2(eps)\n",
    "    means1[i] = np.mean(est1)\n",
    "    means2[i] = np.mean(est2)\n",
    "    vars1[i] = np.var(est1)\n",
    "    vars2[i] = np.var(est2)\n",
    "    \n",
    "print(means1)\n",
    "print(means2)\n",
    "print(vars1)\n",
    "print(vars2)"
   ]
  },
  {
   "cell_type": "code",
   "execution_count": 5,
   "metadata": {},
   "outputs": [
    {
     "data": {
      "text/plain": [
       "<matplotlib.legend.Legend at 0x11166ca90>"
      ]
     },
     "execution_count": 5,
     "metadata": {},
     "output_type": "execute_result"
    },
    {
     "data": {
      "image/png": "[encoded data removed]",
      "text/plain": [
       "<Figure size 432x288 with 1 Axes>"
      ]
     },
     "metadata": {
      "needs_background": "light"
     },
     "output_type": "display_data"
    }
   ],
   "source": [
    "plt.plot(vars1)\n",
    "plt.plot(vars2)\n",
    "plt.legend(['no rt', 'rt'])"
   ]
  },
  {
   "cell_type": "markdown",
   "metadata": {},
   "source": [
    "Variance of the estimates using reparameterization trick is one order of magnitude smaller than the estimates from the first method!"
   ]
  }
 ],
 "metadata": {
  "kernelspec": {
   "display_name": "venv",
   "language": "python",
   "name": "venv"
  },
  "language_info": {
   "codemirror_mode": {
    "name": "ipython",
    "version": 3
   },
   "file_extension": ".py",
   "mimetype": "text/x-python",
   "name": "python",
   "nbconvert_exporter": "python",
   "pygments_lexer": "ipython3",
   "version": "3.6.5"
  },
  "latex_envs": {
   "LaTeX_envs_menu_present": true,
   "autoclose": false,
   "autocomplete": true,
   "bibliofile": "biblio.bib",
   "cite_by": "apalike",
   "current_citInitial": 1,
   "eqLabelWithNumbers": true,
   "eqNumInitial": 1,
   "hotkeys": {
    "equation": "Ctrl-E",
    "itemize": "Ctrl-I"
   },
   "labels_anchors": false,
   "latex_user_defs": false,
   "report_style_numbering": false,
   "user_envs_cfg": false
  },
  "toc": {
   "base_numbering": 1,
   "nav_menu": {},
   "number_sections": true,
   "sideBar": true,
   "skip_h1_title": false,
   "title_cell": "Table of Contents",
   "title_sidebar": "Contents",
   "toc_cell": false,
   "toc_position": {},
   "toc_section_display": true,
   "toc_window_display": false
  },
  "varInspector": {
   "cols": {
    "lenName": 16,
    "lenType": 16,
    "lenVar": 40
   },
   "kernels_config": {
    "python": {
     "delete_cmd_postfix": "",
     "delete_cmd_prefix": "del ",
     "library": "var_list.py",
     "varRefreshCmd": "print(var_dic_list())"
    },
    "r": {
     "delete_cmd_postfix": ") ",
     "delete_cmd_prefix": "rm(",
     "library": "var_list.r",
     "varRefreshCmd": "cat(var_dic_list()) "
    }
   },
   "types_to_exclude": [
    "module",
    "function",
    "builtin_function_or_method",
    "instance",
    "_Feature"
   ],
   "window_display": false
  }
 },
 "nbformat": 4,
 "nbformat_minor": 2
}
